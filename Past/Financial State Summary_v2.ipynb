{
 "cells": [
  {
   "cell_type": "markdown",
   "metadata": {},
   "source": [
    "## 국내 주식 파일 읽어오기"
   ]
  },
  {
   "cell_type": "code",
   "execution_count": 1,
   "metadata": {
    "scrolled": false
   },
   "outputs": [],
   "source": [
    "import pandas as pd\n",
    "\n",
    "# 엑셀 파일 경로 설정\n",
    "filename = r'C:\\Users\\User\\Desktop\\Finance\\investment_management\\domestic_stock_account_management_v2.xlsx'\n",
    "# 특정 Sheet 가져오기\n",
    "sheet_name = '자산 정리'\n",
    "df_domestic_stock = pd.read_excel(filename, sheet_name = sheet_name)\n",
    "# 가져온 DataFrame 확인\n",
    "# df_domestic_stock.head()"
   ]
  },
  {
   "cell_type": "markdown",
   "metadata": {},
   "source": [
    "## 가져온 파일 전처리"
   ]
  },
  {
   "cell_type": "code",
   "execution_count": 2,
   "metadata": {
    "scrolled": true
   },
   "outputs": [],
   "source": [
    "# 전처리용 임시 DataFrame 생성(추후 아래 코드 복사 사용 용이 목적)\n",
    "df = df_domestic_stock\n",
    "# 첫 번째 행, 열 삭제\n",
    "df = df.drop(0)\n",
    "df = df.drop('Unnamed: 0', axis = 1)\n",
    "# 인덱스의 데이터 타입을 문자형으로 변경\n",
    "df.index = df.index.astype(str)\n",
    "# 첫 번째 인덱스 명을 공백으로 변경\n",
    "df.index.values[0] = ''\n",
    "# 전처리한 DataFrame 확인\n",
    "# df.head()"
   ]
  },
  {
   "cell_type": "code",
   "execution_count": 3,
   "metadata": {},
   "outputs": [],
   "source": [
    "# 첫 번째 행을 컬럼명으로 변경 후 첫 번째 행 삭제\n",
    "df.columns = df.iloc[0]\n",
    "df = df.drop(df.index[0])\n",
    "# '날짜' 항목이 '계산 결과'로 되어 있는 행 삭제\n",
    "df = df[~(df['날짜'] == '계산 결과')]\n",
    "# 전처리한 DataFrame 확인\n",
    "# df.head()"
   ]
  },
  {
   "cell_type": "code",
   "execution_count": 4,
   "metadata": {},
   "outputs": [],
   "source": [
    "# 인덱스 재설정\n",
    "df = df.reset_index(drop=True)\n",
    "# 전처리된 DataFrame을 원래 DataFrame 변수에 입력\n",
    "df_domestic_stock = df\n",
    "# 전처리한 DataFrame 확인\n",
    "# df_domestic_stock.head()"
   ]
  },
  {
   "cell_type": "markdown",
   "metadata": {},
   "source": [
    "## 해당 DataFrame에서 필요한 값 가져오기"
   ]
  },
  {
   "cell_type": "code",
   "execution_count": 5,
   "metadata": {},
   "outputs": [],
   "source": [
    "# 임시 DataFrame 생성(추후 아래 코드 복사 사용 용이 목적)\n",
    "df = df_domestic_stock\n",
    "# iloc 인덱서를 사용하여 마지막 행의 특정 컬럼 값 가져오기\n",
    "need_value_by_iloc_in_domestic_stock = df.iloc[-1]['전체 자산 합계(원)']\n",
    "\n",
    "# 가져온 값 확인\n",
    "# print(need_value_by_iloc_in_domestic_stock)"
   ]
  },
  {
   "cell_type": "markdown",
   "metadata": {},
   "source": [
    "## 펀드 파일 읽어오기"
   ]
  },
  {
   "cell_type": "code",
   "execution_count": 6,
   "metadata": {
    "scrolled": true
   },
   "outputs": [],
   "source": [
    "# 엑셀 파일 경로 설정\n",
    "filename = r'C:\\Users\\User\\Desktop\\Finance\\investment_management\\all_fund_management.xlsx'\n",
    "# 특정 Sheet 가져오기\n",
    "sheet_name = '전체 총계'\n",
    "df_fund = pd.read_excel(filename, sheet_name = sheet_name)\n",
    "# 가져온 DataFrame 확인\n",
    "# df_fund.head()"
   ]
  },
  {
   "cell_type": "markdown",
   "metadata": {},
   "source": [
    "## 가져온 파일 전처리"
   ]
  },
  {
   "cell_type": "code",
   "execution_count": 7,
   "metadata": {},
   "outputs": [],
   "source": [
    "# 전처리용 임시 DataFrame 생성(추후 아래 코드 복사 사용 용이 목적)\n",
    "df = df_fund\n",
    "# 첫 번째 행을 컬럼명으로 변경 후 첫 번째 행 삭제\n",
    "df.columns = df.iloc[0]\n",
    "df = df.drop(df.index[0])\n",
    "# '투자원금' 항목이 비어 있는 행 삭제\n",
    "df = df.drop(df[df['투자원금'].isna() == True].index)\n",
    "# 전체 행과 열을 모두 보기 위해 판다스 설정 변경\n",
    "pd.set_option('display.max_columns', None)\n",
    "pd.set_option('display.max_rows', None)\n",
    "# 전체 행과 열을 모두 보기 위한 설정을 기본값으로 설정 재변경\n",
    "pd.reset_option('display.max_columns')\n",
    "pd.reset_option('display.max_rows')\n",
    "# 전처리된 DataFrame을 원래 DataFrame 변수에 입력\n",
    "df_fund = df\n",
    "# 전처리한 DataFrame 확인\n",
    "# df_fund"
   ]
  },
  {
   "cell_type": "markdown",
   "metadata": {},
   "source": [
    "## 해당 DataFrame에서 필요한 값 가져오기"
   ]
  },
  {
   "cell_type": "code",
   "execution_count": 8,
   "metadata": {},
   "outputs": [],
   "source": [
    "# 임시 DataFrame 생성(추후 아래 코드 복사 사용 용이 목적)\n",
    "df = df_fund\n",
    "# iloc 인덱서를 사용하여 마지막 행의 특정 컬럼 값 가져오기\n",
    "need_value_by_iloc_in_fund = df.iloc[-1]['평가금액']\n",
    "# loc 인덱서를 사용하여 마지막 행의 특정 컬럼 값 가져오기\n",
    "need_value_by_loc_in_fund = df.loc[df.index[-1], '평가금액']\n",
    "\n",
    "# 가져온 값 확인\n",
    "# print(need_value_by_iloc_in_fund)\n",
    "# print(need_value_by_loc_in_fund)"
   ]
  },
  {
   "cell_type": "markdown",
   "metadata": {},
   "source": [
    "## 국내 주식(중개형 ISA) 파일 읽어오기"
   ]
  },
  {
   "cell_type": "code",
   "execution_count": 9,
   "metadata": {},
   "outputs": [],
   "source": [
    "# 엑셀 파일 경로 설정\n",
    "filename = r'C:\\Users\\User\\Desktop\\Finance\\investment_management\\intermediary_ISA_account_management.xlsx'\n",
    "# 특정 Sheet 가져오기\n",
    "sheet_name = '자산 정리'\n",
    "df_intermediary_ISA = pd.read_excel(filename, sheet_name = sheet_name)\n",
    "# 가져온 DataFrame 확인\n",
    "# df_intermediary_ISA.head()"
   ]
  },
  {
   "cell_type": "markdown",
   "metadata": {},
   "source": [
    "## 가져온 파일 전처리"
   ]
  },
  {
   "cell_type": "code",
   "execution_count": 10,
   "metadata": {
    "scrolled": false
   },
   "outputs": [],
   "source": [
    "# 전처리용 임시 DataFrame 생성(추후 아래 코드 복사 사용 용이 목적)\n",
    "df = df_intermediary_ISA\n",
    "# 첫 번째 행, 열 삭제\n",
    "df = df.drop(0)\n",
    "df = df.drop('Unnamed: 0', axis = 1)\n",
    "# 인덱스의 데이터 타입을 문자형으로 변경\n",
    "df.index = df.index.astype(str)\n",
    "# 첫 번째 인덱스 명을 공백으로 변경\n",
    "df.index.values[0] = ''\n",
    "# 첫 번째 행을 컬럼명으로 변경 후 첫 번째 행 삭제\n",
    "df.columns = df.iloc[0]\n",
    "df = df.drop(df.index[0])\n",
    "# '날짜' 항목이 '계산 결과'로 되어 있는 행 삭제\n",
    "df = df[~(df['날짜'] == '계산 결과')]\n",
    "# 인덱스 재설정\n",
    "df = df.reset_index(drop=True)\n",
    "# 전처리된 DataFrame을 원래 DataFrame 변수에 입력\n",
    "df_intermediary_ISA = df\n",
    "# 전처리한 DataFrame 확인\n",
    "# df_intermediary_ISA.head()"
   ]
  },
  {
   "cell_type": "markdown",
   "metadata": {},
   "source": [
    "## 해당 DataFrame에서 필요한 값 가져오기"
   ]
  },
  {
   "cell_type": "code",
   "execution_count": 11,
   "metadata": {},
   "outputs": [],
   "source": [
    "# 임시 DataFrame 생성(추후 아래 코드 복사 사용 용이 목적)\n",
    "df = df_intermediary_ISA\n",
    "# iloc 인덱서를 사용하여 마지막 행의 특정 컬럼 값 가져오기\n",
    "need_value_by_iloc_in_intermediary_ISA = df.iloc[-1]['전체 자산 합계(원)']\n",
    "\n",
    "# 가져온 값 확인\n",
    "# print(need_value_by_iloc_in_intermediary_ISA)"
   ]
  },
  {
   "cell_type": "markdown",
   "metadata": {},
   "source": [
    "## 해외 주식 파일 읽어오기"
   ]
  },
  {
   "cell_type": "code",
   "execution_count": 12,
   "metadata": {},
   "outputs": [],
   "source": [
    "import pandas as pd\n",
    "\n",
    "# 엑셀 파일 경로 설정\n",
    "filename = r'C:\\Users\\User\\Desktop\\Finance\\investment_management\\overseas_stock_management_v8.xlsx'\n",
    "# 특정 Sheet 가져오기\n",
    "sheet_name = '자산 정리'\n",
    "df_overseas_stock = pd.read_excel(filename, sheet_name = sheet_name)\n",
    "# 아래 코드 공용 사용을 위해 임시 DataFrame 생성\n",
    "df = df_overseas_stock\n",
    "# 이유는 모르겠지만, 빈 열이 너무 많이 나와서 열 개수 줄이기\n",
    "# start_column = 'Unnamed: 6'\n",
    "# columns_to_drop = df.columns[df.columns.get_loc(start_column):]\n",
    "# df.drop(columns=columns_to_drop, inplace=True)\n",
    "# 수정된 DataFrame을 원래 변수에 입력\n",
    "df_overseas_stock = df\n",
    "#출력 옵션 설정\n",
    "pd.set_option('display.max_rows', None)\n",
    "#출력 옵션 되돌리기\n",
    "pd.reset_option('display.max_rows')\n",
    "# 가져온 DataFrame 확인\n",
    "# df_overseas_stock"
   ]
  },
  {
   "cell_type": "markdown",
   "metadata": {},
   "source": [
    "## 해당 DataFrame에서 필요한 값 가져오기"
   ]
  },
  {
   "cell_type": "code",
   "execution_count": 13,
   "metadata": {},
   "outputs": [],
   "source": [
    "# 임시 DataFrame 생성(추후 아래 코드 복사 사용 용이 목적)\n",
    "df = df_overseas_stock\n",
    "# iloc 인덱서를 사용하여 마지막 행의 특정 컬럼 값 가져오기\n",
    "need_value_by_iloc_in_overseas_stock = round(df.iloc[-1]['Unnamed: 18'], 0)\n",
    "\n",
    "# 가져온 값 확인\n",
    "# print(need_value_by_iloc_in_overseas_stock)"
   ]
  },
  {
   "cell_type": "markdown",
   "metadata": {},
   "source": [
    "## 연금저축 파일 읽어오기"
   ]
  },
  {
   "cell_type": "code",
   "execution_count": 14,
   "metadata": {},
   "outputs": [],
   "source": [
    "# 엑셀 파일 경로 설정\n",
    "filename = r'C:\\Users\\User\\Desktop\\Finance\\investment_management\\pension_savings_account_management_v4.xlsm'\n",
    "# 특정 Sheet 가져오기\n",
    "sheet_name = '예수금 및 자산합계'\n",
    "df_pension_savings = pd.read_excel(filename, sheet_name = sheet_name)\n",
    "# 아래 코드 공용 사용을 위해 임시 DataFrame 생성\n",
    "df = df_pension_savings\n",
    "# 이유는 모르겠지만, 빈 열이 너무 많이 나와서 열 개수 줄이기\n",
    "start_column = 'Unnamed: 7'\n",
    "columns_to_drop = df.columns[df.columns.get_loc(start_column):]\n",
    "df.drop(columns=columns_to_drop, inplace=True)\n",
    "# 수정된 DataFrame을 원래 변수에 입력\n",
    "df_pension_savings = df\n",
    "# 가져온 DataFrame 확인\n",
    "# df_pension_savings"
   ]
  },
  {
   "cell_type": "markdown",
   "metadata": {},
   "source": [
    "## 가져온 파일 전처리"
   ]
  },
  {
   "cell_type": "code",
   "execution_count": 15,
   "metadata": {},
   "outputs": [],
   "source": [
    "# 전처리용 임시 DataFrame 생성(추후 아래 코드 복사 사용 용이 목적)\n",
    "df = df_pension_savings\n",
    "# 첫 번째 행부터 3번째 행까지 삭제(try 문법 이용하여 초기 한 번만 수행하도록 설정)\n",
    "try:\n",
    "    end_row = 2\n",
    "    rows_to_drop = list(range(end_row + 1))  # 삭제할 행의 인덱스 목록\n",
    "    df.drop(rows_to_drop, inplace=True)\n",
    "except KeyError:\n",
    "    pass\n",
    "# 특정 조건을 만족하는 행의 인덱스명을 공백으로 변경\n",
    "try : \n",
    "    condition = df['예수금 및 자산합계'] == '날짜'\n",
    "    selected_indices = df[condition].index\n",
    "    df.rename(index=dict(zip(selected_indices, ['']*len(selected_indices))), inplace=True)\n",
    "except KeyError:\n",
    "    pass\n",
    "# 인덱스가 공백인 행을 컬럼명으로 변경\n",
    "try:\n",
    "    condition = df.index == ''\n",
    "    row_index = df[condition].index[0]  # 첫 번째로 만족하는 행의 인덱스\n",
    "    row_number = df.index.get_loc(row_index)  # 행의 위치를 가져옴\n",
    "    df.columns = df.iloc[row_number]\n",
    "    df = df.drop(df.index[row_number])\n",
    "except IndexError:\n",
    "    pass\n",
    "# '날짜' 항목이 날짜 형식으로 되어 있지 않은 행 삭제\n",
    "try:\n",
    "    df['날짜'] = pd.to_datetime(df['날짜'], errors='coerce')\n",
    "    df.dropna(subset=['날짜'], inplace=True)\n",
    "except KeyError:\n",
    "    pass\n",
    "# 인덱스 재설정\n",
    "df = df.reset_index(drop=True)\n",
    "# 전처리된 DataFrame을 원래 DataFrame 변수에 입력\n",
    "df_pension_savings = df\n",
    "# 전처리한 DataFrame 확인\n",
    "# df_pension_savings"
   ]
  },
  {
   "cell_type": "markdown",
   "metadata": {},
   "source": [
    "## 해당 DataFrame에서 필요한 값 가져오기"
   ]
  },
  {
   "cell_type": "code",
   "execution_count": 16,
   "metadata": {},
   "outputs": [],
   "source": [
    "# 임시 DataFrame 생성(추후 아래 코드 복사 사용 용이 목적)\n",
    "df = df_pension_savings\n",
    "# iloc 인덱서를 사용하여 마지막 행의 특정 컬럼 값 가져오기\n",
    "need_value_by_iloc_in_pension_savings = df.iloc[-1]['날짜별 전체 자산 합계(원)']\n",
    "\n",
    "# 가져온 값 확인\n",
    "# print(need_value_by_iloc_in_pension_savings)"
   ]
  },
  {
   "cell_type": "markdown",
   "metadata": {},
   "source": [
    "## 달러/금/암호화폐/엔화 파일 읽어오기"
   ]
  },
  {
   "cell_type": "code",
   "execution_count": 17,
   "metadata": {},
   "outputs": [],
   "source": [
    "# 엑셀 파일 경로 설정\n",
    "filename = r'C:\\Users\\User\\Desktop\\Finance\\investment_management\\(dollar,gold,cryptocurrency,the_yen)_finance.xlsx'\n",
    "# 특정 Sheet 가져오기\n",
    "sheet_name_1 = '금'\n",
    "sheet_name_2 = '가상화폐'\n",
    "sheet_name_3 = '엔화'\n",
    "df_gold = pd.read_excel(filename, sheet_name = sheet_name_1)\n",
    "df_crytocurrency = pd.read_excel(filename, sheet_name = sheet_name_2)\n",
    "df_yen = pd.read_excel(filename, sheet_name = sheet_name_3)\n",
    "# 가져온 DataFrame 확인\n",
    "# df_yen.head()"
   ]
  },
  {
   "cell_type": "markdown",
   "metadata": {},
   "source": [
    "## 해당 DataFrame에서 필요한 값 가져오기"
   ]
  },
  {
   "cell_type": "code",
   "execution_count": 18,
   "metadata": {},
   "outputs": [],
   "source": [
    "# iloc 인덱서를 사용하여 마지막 행의 특정 컬럼 값 가져오기\n",
    "need_value_by_iloc_in_gold = df_gold.iloc[-1]['Unnamed: 2']\n",
    "need_value_by_iloc_in_crytocurrency = df_crytocurrency.iloc[-1]['Unnamed: 2']\n",
    "need_value_by_iloc_in_yen = df_yen.iloc[-1]['Unnamed: 7']\n",
    "\n",
    "# 가져온 값 확인\n",
    "# print(need_value_by_iloc_in_gold)\n",
    "# print(need_value_by_iloc_in_crytocurrency)\n",
    "# print(need_value_by_iloc_in_yen)"
   ]
  },
  {
   "cell_type": "markdown",
   "metadata": {},
   "source": [
    "## 재무 정리 파일 읽어오기"
   ]
  },
  {
   "cell_type": "code",
   "execution_count": 19,
   "metadata": {},
   "outputs": [],
   "source": [
    "# 엑셀 파일 경로 설정\n",
    "filename = r'C:\\Users\\User\\Desktop\\Finance\\Monthly_Asset_Managemenet_v2.xlsx'\n",
    "# 특정 Sheet 가져오기\n",
    "sheet_name = '월별 자산금'\n",
    "df_financial_management = pd.read_excel(filename, sheet_name = sheet_name)\n",
    "# 가져온 DataFrame 확인\n",
    "# df_financial_management.head()"
   ]
  },
  {
   "cell_type": "markdown",
   "metadata": {},
   "source": [
    "## 가져온 파일 전처리"
   ]
  },
  {
   "cell_type": "code",
   "execution_count": 20,
   "metadata": {
    "scrolled": false
   },
   "outputs": [],
   "source": [
    "import locale\n",
    "\n",
    "# 전처리용 임시 DataFrame 생성(추후 아래 코드 복사 사용 용이 목적)\n",
    "df = df_financial_management\n",
    "# 인덱스의 데이터 타입을 문자형으로 변경\n",
    "df.columns = df.columns.astype(str)\n",
    "# 첫 번째 인덱스 명을 공백으로 변경\n",
    "df.columns.values[0] = ''\n",
    "# 첫 번째 컬럼 내 Cell 값을 index명으로 변경 후 첫 번째 열 삭제\n",
    "df.set_index(df.iloc[:, 0], inplace=True)\n",
    "df = df.drop(df.columns[0], axis = 1)\n",
    "# DataFrame 내 Cell 데이터 타입을 문자형에서 숫자형으로 변경\n",
    "df = df.astype(int)\n",
    "# 가져온 파일 내 숫자가 천 단위 구분 기호(,)가 있도록 변경\n",
    "def format_with_commas(value):\n",
    "    locale.setlocale(locale.LC_ALL, '')  # 현재 시스템의 로케일 설정\n",
    "    return locale.format_string('%d', value, grouping=True)\n",
    "df = df.applymap(format_with_commas)\n",
    "# 전처리된 DataFrame을 원래 DataFrame 변수에 입력\n",
    "df_financial_management = df\n",
    "# 전처리한 DataFrame 확인\n",
    "# df_financial_management.head()"
   ]
  },
  {
   "cell_type": "markdown",
   "metadata": {},
   "source": [
    "## 오늘 날짜 읽어와서 새로운 컬럼 생성"
   ]
  },
  {
   "cell_type": "code",
   "execution_count": 21,
   "metadata": {
    "scrolled": true
   },
   "outputs": [],
   "source": [
    "from datetime import date\n",
    "\n",
    "# 오늘 날짜 가져오기\n",
    "today = date.today()\n",
    "# 기존 컬럼 형식과 동일한 형식으로 변경\n",
    "formatted_date = today.strftime(\"%Y.%m\")\n",
    "month_expression = '(월)'\n",
    "insert_column_name = formatted_date + month_expression\n",
    "# 컬럼명 확인\n",
    "# print(insert_column_name)"
   ]
  },
  {
   "cell_type": "markdown",
   "metadata": {},
   "source": [
    "## 재무 정리 파일에 새로운 컬럼 생성"
   ]
  },
  {
   "cell_type": "code",
   "execution_count": 22,
   "metadata": {},
   "outputs": [],
   "source": [
    "import numpy as np\n",
    "\n",
    "df_financial_management[insert_column_name] = np.nan\n",
    "df_financial_management = df_financial_management.fillna('')\n",
    "# 작업한 DataFrame 확인\n",
    "# df_financial_management"
   ]
  },
  {
   "cell_type": "markdown",
   "metadata": {},
   "source": [
    "## 재무 정리 파일에 수집한 값 입력"
   ]
  },
  {
   "cell_type": "code",
   "execution_count": 23,
   "metadata": {
    "scrolled": true
   },
   "outputs": [
    {
     "name": "stdout",
     "output_type": "stream",
     "text": [
      "Code run completion\n"
     ]
    }
   ],
   "source": [
    "# 작업용 임시 DataFrame 생성(추후 아래 코드 복사 사용 용이 목적)\n",
    "df = df_financial_management\n",
    "\n",
    "# 데이터 타입 확인\n",
    "# non_string_cells = df.select_dtypes(exclude='object')\n",
    "# print(non_string_cells)\n",
    "# 천 단위 표시용 쉼표(,) 제거 후 데이터 타입을 숫자형으로 변경\n",
    "df = df.applymap(lambda x: x.replace(',', '') if isinstance(x, str) else x)\n",
    "# 데이터 타입 확인\n",
    "# non_string_cells = df.select_dtypes(exclude='object')\n",
    "# print(non_string_cells)\n",
    "# 문자형 공백을 숫자형 공백으로 변환\n",
    "df = df.replace(r'^\\s*$', np.nan, regex=True)\n",
    "df = df.fillna(0).astype(int)  \n",
    "df = df.replace(r'^\\s*$', 0, regex=True).astype(int)\n",
    "# 데이터 타입을 문자형에서 숫자형으로 변경\n",
    "df = df.astype(int)\n",
    "\n",
    "# 수집한 값 입력\n",
    "df.at['적립식 펀드(해외)', insert_column_name] = need_value_by_iloc_in_fund\n",
    "df.at['국내 주식', insert_column_name] = need_value_by_iloc_in_domestic_stock\n",
    "df.at['국내 주식(중개형ISA)', insert_column_name] = need_value_by_iloc_in_intermediary_ISA\n",
    "df.at['해외 주식', insert_column_name] = need_value_by_iloc_in_overseas_stock\n",
    "df.at['연금저축(ETF)', insert_column_name] = need_value_by_iloc_in_pension_savings\n",
    "df.at['금 현물(krx 금 계좌)', insert_column_name] = need_value_by_iloc_in_gold\n",
    "df.at['비트코인', insert_column_name] = need_value_by_iloc_in_crytocurrency\n",
    "df.at['엔화(수시입출금 계좌)', insert_column_name] = need_value_by_iloc_in_yen\n",
    "# 계산으로 나오는 '위험자산' 행의 Cell 값 산출 후 입력\n",
    "column_name = insert_column_name\n",
    "selected_rows = ['적립식 펀드(해외)', '국내 주식', '국내 주식(중개형ISA)', '해외 주식', '연금저축(ETF)','포스코 자사주']\n",
    "total_sum = df.loc[selected_rows, column_name].sum()\n",
    "df.at['위험자산', insert_column_name] = total_sum\n",
    "# 직접 입력해야 하는 값 중 장기간 변하지 않는 값 입력\n",
    "df.at['원룸 보증금', insert_column_name] = 3000000\n",
    "# 소수점 0번째 자리까지 나타내기\n",
    "df[insert_column_name] = df[insert_column_name].map('{:.0f}'.format)\n",
    "# 데이터 타입을 문자형에서 숫자형으로 변경\n",
    "df = df.astype(int)\n",
    "# 가져온 파일 내 숫자가 천 단위 구분 기호(,)가 있도록 변경\n",
    "def format_with_commas(value):\n",
    "    locale.setlocale(locale.LC_ALL, '')  # 현재 시스템의 로케일 설정\n",
    "    return locale.format_string('%d', value, grouping=True)\n",
    "df = df.applymap(format_with_commas)\n",
    "# 작업된 DataFrame을 원래 DataFrame 변수에 입력\n",
    "df_financial_management = df\n",
    "\n",
    "# 작업한 DataFrame 확인\n",
    "# df_financial_management\n",
    "\n",
    "# 엑셀 파일에 입력\n",
    "df_financial_management.to_excel('output.xlsx', sheet_name = '월별 자산금')\n",
    "# 코드 실행 완료 알림\n",
    "print('Code run completion')"
   ]
  }
 ],
 "metadata": {
  "kernelspec": {
   "display_name": "Python 3",
   "language": "python",
   "name": "python3"
  },
  "language_info": {
   "codemirror_mode": {
    "name": "ipython",
    "version": 3
   },
   "file_extension": ".py",
   "mimetype": "text/x-python",
   "name": "python",
   "nbconvert_exporter": "python",
   "pygments_lexer": "ipython3",
   "version": "3.8.5"
  }
 },
 "nbformat": 4,
 "nbformat_minor": 4
}
