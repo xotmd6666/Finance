{
 "cells": [
  {
   "cell_type": "markdown",
   "metadata": {},
   "source": [
    "## 국내 주식 파일 가져오기 & 전처리"
   ]
  },
  {
   "cell_type": "code",
   "execution_count": 1,
   "metadata": {},
   "outputs": [],
   "source": [
    "import pandas as pd\n",
    "\n",
    "# 엑셀 파일 경로 설정\n",
    "filename = r'C:\\Users\\User\\Desktop\\Finance\\investment_management\\domestic_stock_account_management_v2.xlsx'\n",
    "# 특정 Sheet 가져오기\n",
    "sheet_name = '자산 정리'\n",
    "df_domestic_stock = pd.read_excel(filename, sheet_name = sheet_name)\n",
    "# 가져온 DataFrame 확인\n",
    "# df_domestic_stock.head()\n",
    "# 전처리용 임시 DataFrame 생성(추후 아래 코드 복사 사용 용이 목적)\n",
    "df = df_domestic_stock\n",
    "# 첫 번째 행, 열 삭제\n",
    "df = df.drop(0)\n",
    "df = df.drop('Unnamed: 0', axis = 1)\n",
    "# 인덱스의 데이터 타입을 문자형으로 변경\n",
    "df.index = df.index.astype(str)\n",
    "# 첫 번째 인덱스 명을 공백으로 변경\n",
    "df.index.values[0] = ''\n",
    "# 전처리한 DataFrame 확인\n",
    "# df.head()\n",
    "# 첫 번째 행을 컬럼명으로 변경 후 첫 번째 행 삭제\n",
    "df.columns = df.iloc[0]\n",
    "df = df.drop(df.index[0])\n",
    "# '날짜' 항목이 '계산 결과'로 되어 있는 행 삭제\n",
    "df = df[~(df['날짜'] == '계산 결과')]\n",
    "# 전처리한 DataFrame 확인\n",
    "# df.head()\n",
    "# 인덱스 재설정\n",
    "df = df.reset_index(drop=True)\n",
    "# 전처리된 DataFrame을 원래 DataFrame 변수에 입력\n",
    "df_domestic_stock = df\n",
    "# 전처리한 DataFrame 확인\n",
    "# df_domestic_stock.head()"
   ]
  },
  {
   "cell_type": "markdown",
   "metadata": {},
   "source": [
    "## 원하는 값 추출"
   ]
  },
  {
   "cell_type": "code",
   "execution_count": 2,
   "metadata": {
    "scrolled": true
   },
   "outputs": [
    {
     "name": "stdout",
     "output_type": "stream",
     "text": [
      "5588600\n",
      "5768459\n"
     ]
    }
   ],
   "source": [
    "# 임시 DataFrame 생성(추후 아래 코드 복사 사용 용이 목적)\n",
    "df = df_domestic_stock\n",
    "# iloc 인덱서를 사용하여 마지막 행의 특정 컬럼 값 가져오기\n",
    "need_value_by_iloc_in_domestic_stock_1 = df.iloc[-1]['평가금액 합계(원)']\n",
    "need_value_by_iloc_in_domestic_stock_2 = df.iloc[-1]['예수금(원)']\n",
    "\n",
    "# 가져온 값 확인\n",
    "print(need_value_by_iloc_in_domestic_stock_1)\n",
    "print(need_value_by_iloc_in_domestic_stock_2)"
   ]
  },
  {
   "cell_type": "markdown",
   "metadata": {},
   "source": [
    "## 펀드 파일 가져오기 & 전처리"
   ]
  },
  {
   "cell_type": "code",
   "execution_count": 3,
   "metadata": {},
   "outputs": [],
   "source": [
    "# 엑셀 파일 경로 설정\n",
    "filename = r'C:\\Users\\User\\Desktop\\Finance\\investment_management\\all_fund_management.xlsx'\n",
    "# 특정 Sheet 가져오기\n",
    "sheet_name_1 = '해외 선진국 펀드'\n",
    "sheet_name_2 = '해외 신흥국 펀드'\n",
    "df_fund_1 = pd.read_excel(filename, sheet_name = sheet_name_1)\n",
    "df_fund_2 = pd.read_excel(filename, sheet_name = sheet_name_2)\n",
    "# 가져온 DataFrame 확인\n",
    "# df_fund.head()\n",
    "# 전처리용 임시 DataFrame 생성(추후 아래 코드 복사 사용 용이 목적)\n",
    "df = df_fund_1\n",
    "# 첫 번째 행을 컬럼명으로 변경 후 첫 번째 행 삭제\n",
    "df.columns = df.iloc[0]\n",
    "df = df.drop(df.index[0])\n",
    "# '투자원금' 항목이 비어 있는 행 삭제\n",
    "df = df.drop(df[df['투자원금'].isna() == True].index)\n",
    "# 전처리된 DataFrame을 원래 DataFrame 변수에 입력\n",
    "df_fund_1 = df\n",
    "# 전처리용 임시 DataFrame 생성(추후 아래 코드 복사 사용 용이 목적)\n",
    "df = df_fund_2\n",
    "# 첫 번째 행을 컬럼명으로 변경 후 첫 번째 행 삭제\n",
    "df.columns = df.iloc[0]\n",
    "df = df.drop(df.index[0])\n",
    "# '투자원금' 항목이 비어 있는 행 삭제\n",
    "df = df.drop(df[df['투자원금'].isna() == True].index)\n",
    "# 전처리된 DataFrame을 원래 DataFrame 변수에 입력\n",
    "df_fund_2 = df\n",
    "# 전처리한 DataFrame 확인\n",
    "# df_fund"
   ]
  },
  {
   "cell_type": "markdown",
   "metadata": {},
   "source": [
    "## 원하는 값 추출"
   ]
  },
  {
   "cell_type": "code",
   "execution_count": 4,
   "metadata": {
    "scrolled": true
   },
   "outputs": [
    {
     "name": "stdout",
     "output_type": "stream",
     "text": [
      "7178304\n",
      "9430932\n"
     ]
    }
   ],
   "source": [
    "# 임시 DataFrame 생성(추후 아래 코드 복사 사용 용이 목적)\n",
    "df = df_fund_1\n",
    "# iloc 인덱서를 사용하여 마지막 행의 특정 컬럼 값 가져오기\n",
    "need_value_by_iloc_in_fund_1 = df.iloc[-1]['평가금액']\n",
    "# 임시 DataFrame 생성(추후 아래 코드 복사 사용 용이 목적)\n",
    "df = df_fund_2\n",
    "# iloc 인덱서를 사용하여 마지막 행의 특정 컬럼 값 가져오기\n",
    "need_value_by_iloc_in_fund_2 = df.iloc[-1]['평가금액']\n",
    "\n",
    "# 가져온 값 확인\n",
    "print(need_value_by_iloc_in_fund_1)\n",
    "print(need_value_by_iloc_in_fund_2)"
   ]
  },
  {
   "cell_type": "markdown",
   "metadata": {},
   "source": [
    "## 연금저축 파일 가져오기 & 전처리 & 원하는 값 추출"
   ]
  },
  {
   "cell_type": "code",
   "execution_count": 5,
   "metadata": {
    "scrolled": false
   },
   "outputs": [
    {
     "name": "stdout",
     "output_type": "stream",
     "text": [
      "4567930\n",
      "4246000\n",
      "2881330\n",
      "5479.88508\n",
      "7120\n"
     ]
    }
   ],
   "source": [
    "# 엑셀 파일 경로 설정\n",
    "filename = r'C:\\Users\\User\\Desktop\\Finance\\investment_management\\pension_savings_account_management_v4.xlsm'\n",
    "# 특정 Sheet 가져오기\n",
    "sheet_name_1 = '나스닥'\n",
    "sheet_name_2 = 'S&P'\n",
    "sheet_name_3 = 'CSI300'\n",
    "sheet_name_4 = '펀드'\n",
    "sheet_name_5 = '예수금 및 자산합계'\n",
    "df_pension_savings_1 = pd.read_excel(filename, sheet_name = sheet_name_1)\n",
    "df_pension_savings_2 = pd.read_excel(filename, sheet_name = sheet_name_2)\n",
    "df_pension_savings_3 = pd.read_excel(filename, sheet_name = sheet_name_3)\n",
    "df_pension_savings_4 = pd.read_excel(filename, sheet_name = sheet_name_4)\n",
    "df_pension_savings_5 = pd.read_excel(filename, sheet_name = sheet_name_5)\n",
    "\n",
    "need_value_by_iloc_in_pension_savings_1 = df_pension_savings_1.iloc[3]['Unnamed: 2']\n",
    "need_value_by_iloc_in_pension_savings_2 = df_pension_savings_2.iloc[3]['Unnamed: 2']\n",
    "need_value_by_iloc_in_pension_savings_3 = df_pension_savings_3.iloc[3]['Unnamed: 2']\n",
    "need_value_by_iloc_in_pension_savings_4 = df_pension_savings_4.iloc[3]['Unnamed: 2']\n",
    "need_value_by_iloc_in_pension_savings_5 = df_pension_savings_5.iloc[-3]['Unnamed: 4']\n",
    "print(need_value_by_iloc_in_pension_savings_1)\n",
    "print(need_value_by_iloc_in_pension_savings_2)\n",
    "print(need_value_by_iloc_in_pension_savings_3)\n",
    "print(need_value_by_iloc_in_pension_savings_4)\n",
    "print(need_value_by_iloc_in_pension_savings_5)"
   ]
  },
  {
   "cell_type": "markdown",
   "metadata": {},
   "source": [
    "## 중개형ISA 파일 가져오기 & 전처리 & 원하는 값 추출"
   ]
  },
  {
   "cell_type": "code",
   "execution_count": 6,
   "metadata": {},
   "outputs": [
    {
     "name": "stdout",
     "output_type": "stream",
     "text": [
      "448000\n",
      "162900\n",
      "695925\n",
      "780960\n",
      "941850\n",
      "1345090\n",
      "650085\n",
      "669095\n",
      "119783\n"
     ]
    }
   ],
   "source": [
    "# 엑셀 파일 경로 설정\n",
    "filename = r'C:\\Users\\User\\Desktop\\Finance\\investment_management\\intermediary_ISA_account_management.xlsx'\n",
    "# 특정 Sheet 가져오기\n",
    "sheet_name_1 = '보유 주식'\n",
    "sheet_name_2 = '자산 정리'\n",
    "df_intermediary_ISA_1 = pd.read_excel(filename, sheet_name = sheet_name_1)\n",
    "df_intermediary_ISA_2 = pd.read_excel(filename, sheet_name = sheet_name_2)\n",
    "# 전처리\n",
    "df = df_intermediary_ISA_1\n",
    "df = df.drop(df.index[0])\n",
    "df = df.drop('Unnamed: 0', axis = 1)\n",
    "df = df.drop('Unnamed: 1', axis = 1)\n",
    "df = df.drop('Unnamed: 2', axis = 1)\n",
    "df.set_index(df.iloc[:, 0], inplace=True)\n",
    "df = df.drop(df.columns[0], axis = 1)\n",
    "df_intermediary_ISA_1 = df\n",
    "df.columns = df.iloc[0]\n",
    "df = df.drop('종목 명')\n",
    "df_intermediary_ISA_1 = df\n",
    "\n",
    "need_value_by_iloc_in_ISA_1 = df_intermediary_ISA_1.loc['NAVER']['평가 금액(원)']\n",
    "need_value_by_iloc_in_ISA_2 = df_intermediary_ISA_1.loc['카카오']['평가 금액(원)']\n",
    "need_value_by_iloc_in_ISA_3 = df_intermediary_ISA_1.loc['TIGER 미국S&P500']['평가 금액(원)']\n",
    "need_value_by_iloc_in_ISA_4 = df_intermediary_ISA_1.loc['TIGER 미국나스닥100']['평가 금액(원)']\n",
    "need_value_by_iloc_in_ISA_5 = df_intermediary_ISA_1.loc['TIGER 차이나CSI300']['평가 금액(원)']\n",
    "need_value_by_iloc_in_ISA_6 = df_intermediary_ISA_1.loc['KOSEF 인도Nifty50(합성)']['평가 금액(원)']\n",
    "need_value_by_iloc_in_ISA_7 = df_intermediary_ISA_1.loc['KODEX 미국S&P500(H)']['평가 금액(원)']\n",
    "need_value_by_iloc_in_ISA_8 = df_intermediary_ISA_1.loc['KODEX 미국나스닥100(H)']['평가 금액(원)']\n",
    "need_value_by_iloc_in_ISA_9 = df_intermediary_ISA_2.iloc[-1]['Unnamed: 11']\n",
    "\n",
    "print(need_value_by_iloc_in_ISA_1)\n",
    "print(need_value_by_iloc_in_ISA_2)\n",
    "print(need_value_by_iloc_in_ISA_3)\n",
    "print(need_value_by_iloc_in_ISA_4)\n",
    "print(need_value_by_iloc_in_ISA_5)\n",
    "print(need_value_by_iloc_in_ISA_6)\n",
    "print(need_value_by_iloc_in_ISA_7)\n",
    "print(need_value_by_iloc_in_ISA_8)\n",
    "print(need_value_by_iloc_in_ISA_9)"
   ]
  },
  {
   "cell_type": "markdown",
   "metadata": {},
   "source": [
    "## 해외 주식 파일 가져오기 & 전처리 & 원하는 값 추출"
   ]
  },
  {
   "cell_type": "code",
   "execution_count": 7,
   "metadata": {
    "scrolled": false
   },
   "outputs": [
    {
     "name": "stdout",
     "output_type": "stream",
     "text": [
      "1286.5\n",
      "20179048.395\n",
      "16859119.36\n",
      "3704849.835\n",
      "2503850.625\n",
      "3301326.2449999996\n",
      "1308512.0150000001\n",
      "1754528.7\n",
      "314472.06\n",
      "45664\n",
      "23298.515\n"
     ]
    }
   ],
   "source": [
    "import pandas as pd\n",
    "\n",
    "# 엑셀 파일 경로 설정\n",
    "filename = r'C:\\Users\\User\\Desktop\\Finance\\investment_management\\overseas_stock_management_v8.xlsx'\n",
    "# 특정 Sheet 가져오기\n",
    "sheet_name_1 = '보유 종목 현황'\n",
    "sheet_name_2 = '자산 정리'\n",
    "df_overseas_stock_1 = pd.read_excel(filename, sheet_name = sheet_name_1)\n",
    "df_overseas_stock_2 = pd.read_excel(filename, sheet_name = sheet_name_2)\n",
    "df = df_overseas_stock_1\n",
    "change_rate = df_overseas_stock_1.loc[0]['Unnamed: 22']\n",
    "print(change_rate)\n",
    "df1 = df.rename(columns=df.iloc[1])\n",
    "df2 = df1.drop(df1.index[0:2])\n",
    "df3 = df2.set_index(\"티커(Ticker)\")\n",
    "df_overseas_stock_1 = df3\n",
    "\n",
    "df = df_overseas_stock_2\n",
    "df1 = df.rename(columns=df.iloc[1])\n",
    "df_overseas_stock_2 = df1\n",
    "\n",
    "need_value_by_iloc_in_overseas_1 = df_overseas_stock_1.loc[\"SPY\"]['평가 금액($)'] * change_rate\n",
    "need_value_by_iloc_in_overseas_2 = df_overseas_stock_1.loc[\"QQQ\"]['평가 금액($)'] * change_rate\n",
    "need_value_by_iloc_in_overseas_3 = df_overseas_stock_1.loc[\"INDA\"]['평가 금액($)'] * change_rate\n",
    "need_value_by_iloc_in_overseas_4 = df_overseas_stock_1.loc[\"ICLN\"]['평가 금액($)'] * change_rate\n",
    "need_value_by_iloc_in_overseas_5 = df_overseas_stock_1.loc[\"ARKK\"]['평가 금액($)'] * change_rate\n",
    "need_value_by_iloc_in_overseas_6 = df_overseas_stock_1.loc[\"ARKG\"]['평가 금액($)'] * change_rate\n",
    "need_value_by_iloc_in_overseas_7 = df_overseas_stock_1.loc[\"XLV\"]['평가 금액($)'] * change_rate\n",
    "need_value_by_iloc_in_overseas_8 = df_overseas_stock_1.loc[\"MCHI\"]['평가 금액($)'] * change_rate\n",
    "need_value_by_iloc_in_overseas_9 = df_overseas_stock_2.iloc[-1]['예수금(원)']\n",
    "need_value_by_iloc_in_overseas_10 = df_overseas_stock_2.iloc[-1]['예수금($)'] * change_rate\n",
    "\n",
    "print(need_value_by_iloc_in_overseas_1)\n",
    "print(need_value_by_iloc_in_overseas_2)\n",
    "print(need_value_by_iloc_in_overseas_3)\n",
    "print(need_value_by_iloc_in_overseas_4)\n",
    "print(need_value_by_iloc_in_overseas_5)\n",
    "print(need_value_by_iloc_in_overseas_6)\n",
    "print(need_value_by_iloc_in_overseas_7)\n",
    "print(need_value_by_iloc_in_overseas_8)\n",
    "print(need_value_by_iloc_in_overseas_9)\n",
    "print(need_value_by_iloc_in_overseas_10)"
   ]
  },
  {
   "cell_type": "markdown",
   "metadata": {},
   "source": [
    "## 재무 정리 파일 가져오기"
   ]
  },
  {
   "cell_type": "code",
   "execution_count": 8,
   "metadata": {},
   "outputs": [],
   "source": [
    "# 엑셀 파일 경로 설정\n",
    "filename = r'C:\\Users\\User\\Desktop\\Finance\\Monthly_Asset_Managemenet_v2.xlsx'\n",
    "# 특정 Sheet 가져오기\n",
    "sheet_name = '위험자산 월별 자산 금액(국가별)'\n",
    "df_financial_management = pd.read_excel(filename, sheet_name = sheet_name)\n",
    "# 인덱스의 데이터 타입을 문자형으로 변경\n",
    "df = df_financial_management\n",
    "df.columns = df.columns.astype(str)\n",
    "# 첫 번째 인덱스 명을 공백으로 변경\n",
    "df.columns.values[0] = ''\n",
    "# 첫 번째 컬럼 내 Cell 값을 index명으로 변경 후 첫 번째 열 삭제\n",
    "df.set_index(df.iloc[:, 0], inplace=True)\n",
    "df = df.drop(df.columns[0], axis = 1)\n",
    "# 전처리된 DataFrame을 원래 DataFrame 변수에 입력\n",
    "df_financial_management = df\n",
    "# 가져온 DataFrame 확인\n",
    "# df_financial_management"
   ]
  },
  {
   "cell_type": "markdown",
   "metadata": {},
   "source": [
    "## 오늘 날짜에 맞는 컬럼 생성"
   ]
  },
  {
   "cell_type": "code",
   "execution_count": 9,
   "metadata": {},
   "outputs": [],
   "source": [
    "from datetime import date\n",
    "import numpy as np\n",
    "\n",
    "# 오늘 날짜 가져오기\n",
    "today = date.today()\n",
    "# 기존 컬럼 형식과 동일한 형식으로 변경\n",
    "formatted_date = today.strftime(\"%Y.%m\")\n",
    "month_expression = '(월)'\n",
    "insert_column_name = formatted_date + month_expression\n",
    "# 컬럼명 확인\n",
    "# print(insert_column_name)\n",
    "df_financial_management[insert_column_name] = np.nan\n",
    "df_financial_management = df_financial_management.fillna('')\n",
    "# 작업한 DataFrame 확인\n",
    "# df_financial_management"
   ]
  },
  {
   "cell_type": "markdown",
   "metadata": {},
   "source": [
    "## 수집한 값 입력"
   ]
  },
  {
   "cell_type": "code",
   "execution_count": 10,
   "metadata": {},
   "outputs": [
    {
     "name": "stdout",
     "output_type": "stream",
     "text": [
      "Code run completion\n"
     ]
    }
   ],
   "source": [
    "# 작업용 임시 DataFrame 생성(추후 아래 코드 복사 사용 용이 목적)\n",
    "df = df_financial_management\n",
    "\n",
    "# 문자형 공백을 숫자형 공백으로 변환\n",
    "df[insert_column_name] = df[insert_column_name].replace('', np.nan).astype(float)\n",
    "df[insert_column_name] = 0\n",
    "\n",
    "# 수집한 값 입력\n",
    "df.at['주식 - 국내', insert_column_name] = need_value_by_iloc_in_domestic_stock_1\n",
    "df.at['국내주식 - 예수금', insert_column_name] = need_value_by_iloc_in_domestic_stock_2\n",
    "df.at['적립식 펀드 - 선진국', insert_column_name] = need_value_by_iloc_in_fund_1\n",
    "df.at['적립식 펀드 - 신흥국', insert_column_name] = need_value_by_iloc_in_fund_2\n",
    "df.at['연금저축(ETF) - 선진국(미국)', insert_column_name] = need_value_by_iloc_in_pension_savings_1 + need_value_by_iloc_in_pension_savings_2\n",
    "df.at['연금저축(펀드) - 선진국', insert_column_name] = round(need_value_by_iloc_in_pension_savings_4, 0)\n",
    "df.at['연금저축(ETF) - 신흥국(중국)', insert_column_name] = need_value_by_iloc_in_pension_savings_3\n",
    "df.at['연금저축 - 예수금', insert_column_name] = need_value_by_iloc_in_pension_savings_5\n",
    "df.at['주식(중개형ISA) - 국내', insert_column_name] = need_value_by_iloc_in_ISA_1 + need_value_by_iloc_in_ISA_2\n",
    "df.at['주식(중개형ISA) - 선진국(미국)', insert_column_name] = need_value_by_iloc_in_ISA_3 + need_value_by_iloc_in_ISA_4 + need_value_by_iloc_in_ISA_7 + need_value_by_iloc_in_ISA_8\n",
    "df.at['주식(중개형ISA) - 신흥국(중국, 인도)', insert_column_name] = need_value_by_iloc_in_ISA_5 + need_value_by_iloc_in_ISA_6\n",
    "df.at['주식(중개형ISA) - 예수금', insert_column_name] = need_value_by_iloc_in_ISA_9\n",
    "df.at['주식 - 선진국(미국)', insert_column_name] = round( (need_value_by_iloc_in_overseas_1 + need_value_by_iloc_in_overseas_2 + need_value_by_iloc_in_overseas_4 + need_value_by_iloc_in_overseas_5 + need_value_by_iloc_in_overseas_6 + need_value_by_iloc_in_overseas_7), 0)\n",
    "df.at['주식 - 신흥국(중국, 인도)', insert_column_name] = round( (need_value_by_iloc_in_overseas_3 + need_value_by_iloc_in_overseas_8), 0)\n",
    "df.at['해외주식 - 예수금', insert_column_name] = need_value_by_iloc_in_overseas_9 + need_value_by_iloc_in_overseas_10\n",
    "# 계산으로 나오는 '국내 합계' 행의 Cell 값 산출 후 입력\n",
    "column_name = insert_column_name\n",
    "selected_rows = ['주식 - 국내', '주식(중개형ISA) - 국내']\n",
    "total_sum = df.loc[selected_rows, column_name].sum()\n",
    "df.at['국내 합계', insert_column_name] = total_sum\n",
    "# 계산으로 나오는 '선진국 합계' 행의 Cell 값 산출 후 입력\n",
    "column_name = insert_column_name\n",
    "selected_rows = ['적립식 펀드 - 선진국', '주식 - 선진국(미국)', '연금저축(ETF) - 선진국(미국)', '연금저축(펀드) - 선진국', '주식(중개형ISA) - 선진국(미국)']\n",
    "total_sum = df.loc[selected_rows, column_name].sum()\n",
    "df.at['선진국 합계', insert_column_name] = total_sum\n",
    "# 계산으로 나오는 '신흥국 합계' 행의 Cell 값 산출 후 입력\n",
    "column_name = insert_column_name\n",
    "selected_rows = ['적립식 펀드 - 신흥국', '주식 - 신흥국(중국, 인도)', '연금저축(ETF) - 신흥국(중국)', '주식(중개형ISA) - 신흥국(중국, 인도)']\n",
    "total_sum = df.loc[selected_rows, column_name].sum()\n",
    "df.at['신흥국 합계', insert_column_name] = total_sum\n",
    "# 계산으로 나오는 '예수금 합계' 행의 Cell 값 산출 후 입력\n",
    "column_name = insert_column_name\n",
    "selected_rows = ['국내주식 - 예수금', '주식(중개형ISA) - 예수금', '해외주식 - 예수금', '연금저축 - 예수금']\n",
    "total_sum = df.loc[selected_rows, column_name].sum()\n",
    "df.at['예수금 합계', insert_column_name] = total_sum\n",
    "# 계산으로 나오는 '전체 합계' 행의 Cell 값 산출 후 입력\n",
    "column_name = insert_column_name\n",
    "selected_rows = ['국내 합계', '선진국 합계', '신흥국 합계', '예수금 합계']\n",
    "total_sum = df.loc[selected_rows, column_name].sum()\n",
    "df.at['전체 합계', insert_column_name] = total_sum\n",
    "# 소수점 0번째 자리까지 나타내기\n",
    "df[insert_column_name] = df[insert_column_name].map('{:.0f}'.format)\n",
    "# 작업된 DataFrame을 원래 DataFrame 변수에 입력\n",
    "df_financial_management = df\n",
    "\n",
    "# 작업한 DataFrame 확인\n",
    "# df_financial_management\n",
    "\n",
    "# 엑셀 파일에 입력\n",
    "df_financial_management.to_excel('output.xlsx', sheet_name = '위험자산 월별 자산 금액(국가별)')\n",
    "# 코드 실행 완료 알림\n",
    "print('Code run completion')"
   ]
  },
  {
   "cell_type": "code",
   "execution_count": null,
   "metadata": {},
   "outputs": [],
   "source": []
  }
 ],
 "metadata": {
  "kernelspec": {
   "display_name": "Python 3",
   "language": "python",
   "name": "python3"
  },
  "language_info": {
   "codemirror_mode": {
    "name": "ipython",
    "version": 3
   },
   "file_extension": ".py",
   "mimetype": "text/x-python",
   "name": "python",
   "nbconvert_exporter": "python",
   "pygments_lexer": "ipython3",
   "version": "3.8.5"
  }
 },
 "nbformat": 4,
 "nbformat_minor": 4
}
